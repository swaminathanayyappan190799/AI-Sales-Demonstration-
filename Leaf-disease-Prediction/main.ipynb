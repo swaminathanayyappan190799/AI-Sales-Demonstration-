{
 "cells": [
  {
   "cell_type": "code",
   "execution_count": 1,
   "metadata": {},
   "outputs": [
    {
     "name": "stderr",
     "output_type": "stream",
     "text": [
      "2023-06-07 17:34:10,593 INFO leaf_disease_inference  Classifier Model loaded successfully\n",
      "2023-06-07 17:34:10,601 INFO leaf_disease_inference  Classifier labels loaded successfully\n"
     ]
    },
    {
     "name": "stdout",
     "output_type": "stream",
     "text": [
      "1/1 [==============================] - 0s 472ms/step\n"
     ]
    },
    {
     "name": "stderr",
     "output_type": "stream",
     "text": [
      "2023-06-07 17:34:11,294 INFO 2514000097  The Crop prediction model classified the image as Tomato_healthy\n"
     ]
    }
   ],
   "source": [
    "from PyQt5.QtWidgets import QApplication, QMessageBox\n",
    "from skimage import io\n",
    "from logger import logger\n",
    "from leaf_disease_inference import LeafDiseasePredictor\n",
    "try:\n",
    "    input_img = input(\"Image Path : \")\n",
    "    img = io.imread(input_img)\n",
    "    obj = LeafDiseasePredictor(input_image=img)\n",
    "    leaf_disease_prediction = obj.run_classifier_infernce()\n",
    "    logger.info(f\"The Crop prediction model classified the image as {leaf_disease_prediction}\")\n",
    "    try:\n",
    "        classifier_pop_up_app = QApplication([])\n",
    "        classifier_pop_up = QMessageBox()\n",
    "        classifier_pop_up.setIcon(QMessageBox.Information)\n",
    "        classifier_pop_up.setText(f\"The given input image is classified as : {leaf_disease_prediction}\")\n",
    "        classifier_pop_up.setWindowTitle(\"Classification model Prediction\")\n",
    "        classifier_pop_up.setStandardButtons(QMessageBox.Ok)\n",
    "        ok_button = classifier_pop_up.button(QMessageBox.Ok)\n",
    "        ok_button.clicked.connect(classifier_pop_up.close)\n",
    "        classifier_pop_up.show()\n",
    "        classifier_pop_up_app.exec_()\n",
    "    except:\n",
    "        logger.error(\"Error in showing the classifier model results\")\n",
    "except:\n",
    "    logger.error(\"Error in performing crop_prediction_classification\")"
   ]
  },
  {
   "cell_type": "code",
   "execution_count": null,
   "metadata": {},
   "outputs": [],
   "source": []
  }
 ],
 "metadata": {
  "kernelspec": {
   "display_name": "NuventoSales",
   "language": "python",
   "name": "python3"
  },
  "language_info": {
   "codemirror_mode": {
    "name": "ipython",
    "version": 3
   },
   "file_extension": ".py",
   "mimetype": "text/x-python",
   "name": "python",
   "nbconvert_exporter": "python",
   "pygments_lexer": "ipython3",
   "version": "3.8.10"
  },
  "orig_nbformat": 4
 },
 "nbformat": 4,
 "nbformat_minor": 2
}
