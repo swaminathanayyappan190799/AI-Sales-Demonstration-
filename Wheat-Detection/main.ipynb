{
 "cells": [
  {
   "cell_type": "code",
   "execution_count": 1,
   "metadata": {},
   "outputs": [
    {
     "name": "stderr",
     "output_type": "stream",
     "text": [
      "2023-06-14 13:41:23,242 INFO wheat_detection_inference  Initating Wheat Detection for the input images\n",
      "2023-06-14 13:41:23,297 INFO wheat_detection_inference  Starting Inference using YOLO\n",
      "\n",
      "image 1/1 C:\\Users\\swaminathan.ayyappan\\Documents\\Projects_new\\AI-Sales-Demonstration-\\Wheat-Detection\\Detections\\CZFyR.jpg: 1024x1024 37 opacitys, 475.7ms\n",
      "Speed: 9.3ms preprocess, 475.7ms inference, 1.0ms postprocess per image at shape (1, 3, 1024, 1024)\n",
      "2023-06-14 13:41:25,377 INFO wheat_detection_inference  Inference completed sending results for drawing annotations\n",
      "2023-06-14 13:41:36,744 INFO 3059277668  A copy of this detection results is saved in c:\\Users\\swaminathan.ayyappan\\Documents\\Projects_new\\AI-Sales-Demonstration-\\Wheat-Detection\\detections\\CZFyR.jpg\n"
     ]
    }
   ],
   "source": [
    "import cv2\n",
    "from wheat_detection_inference import WheatDetection\n",
    "from PyQt5.QtWidgets import QApplication, QMessageBox\n",
    "from log_settings import logger\n",
    "from skimage import io\n",
    "\n",
    "try:\n",
    "    path = input(\"Enter path/URL of image : \")\n",
    "    imgfile = io.imread(path)\n",
    "    annotated_image_path, object_counts = WheatDetection(input_image=imgfile).run_detection()\n",
    "    try:\n",
    "        detection_pop_up_app = QApplication([])\n",
    "        detection_pop_up = QMessageBox()\n",
    "        detection_pop_up.setIcon(QMessageBox.Information)\n",
    "        detection_pop_up.setText(f\"The given input has : {object_counts}\")\n",
    "        detection_pop_up.setWindowTitle(\"Wheat head detection Prediction\")\n",
    "        detection_pop_up.setStandardButtons(QMessageBox.Ok)\n",
    "        ok_button = detection_pop_up.button(QMessageBox.Ok)\n",
    "        ok_button.clicked.connect(detection_pop_up.close)\n",
    "        detection_pop_up.show()\n",
    "        detection_pop_up_app.exec_()\n",
    "        img = cv2.imread(annotated_image_path)\n",
    "        cv2.namedWindow(\"Detection prediction\", cv2.WINDOW_NORMAL)\n",
    "        cv2.resizeWindow(\"Detection prediction\", 1280, 860)\n",
    "        cv2.imshow(\"Detection prediction\",img)\n",
    "        cv2.waitKey(0)\n",
    "        cv2.destroyAllWindows()\n",
    "        logger.info(f\"A copy of this detection results is saved in {annotated_image_path}\")\n",
    "    except:\n",
    "        logger.error(\"Error in showing the classifier model results\")\n",
    "except:\n",
    "    logger.error(\"Error in performing wheat detection\")"
   ]
  }
 ],
 "metadata": {
  "kernelspec": {
   "display_name": "NuventoSales",
   "language": "python",
   "name": "python3"
  },
  "language_info": {
   "codemirror_mode": {
    "name": "ipython",
    "version": 3
   },
   "file_extension": ".py",
   "mimetype": "text/x-python",
   "name": "python",
   "nbconvert_exporter": "python",
   "pygments_lexer": "ipython3",
   "version": "3.8.10"
  },
  "orig_nbformat": 4
 },
 "nbformat": 4,
 "nbformat_minor": 2
}
