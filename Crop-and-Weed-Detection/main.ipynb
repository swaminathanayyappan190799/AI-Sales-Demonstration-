{
 "cells": [
  {
   "cell_type": "code",
   "execution_count": 1,
   "metadata": {},
   "outputs": [
    {
     "name": "stderr",
     "output_type": "stream",
     "text": [
      "2023-06-13 19:01:02,364 INFO crop_weed_detection_inference  Initating Crop Weed detection for the input images\n",
      "2023-06-13 19:01:02,480 INFO crop_weed_detection_inference  Starting Inference using YOLO\n"
     ]
    },
    {
     "name": "stdout",
     "output_type": "stream",
     "text": [
      "c:\\Users\\swaminathan.ayyappan\\Documents\\Projects_new\\AI-Sales-Demonstration-\\Crop-and-Weed-Detection\n"
     ]
    },
    {
     "name": "stderr",
     "output_type": "stream",
     "text": [
      "\n",
      "image 1/1 C:\\Users\\swaminathan.ayyappan\\Documents\\Projects_new\\AI-Sales-Demonstration-\\Crop-and-Weed-Detection\\Detections\\btEYr.jpg: 640x640 2 crops, 1303.9ms\n",
      "Speed: 8.3ms preprocess, 1303.9ms inference, 1.0ms postprocess per image at shape (1, 3, 640, 640)\n",
      "2023-06-13 19:01:07,718 INFO crop_weed_detection_inference  Inference completed sending results for drawing annotations\n",
      "2023-06-13 19:01:15,646 INFO 4210297058  A copy of this detection results is saved in c:\\Users\\swaminathan.ayyappan\\Documents\\Projects_new\\AI-Sales-Demonstration-\\Crop-and-Weed-Detection\\detections\\btEYr.jpg\n"
     ]
    }
   ],
   "source": [
    "import cv2\n",
    "from crop_weed_detection_inference import CropWeedDetection\n",
    "from PyQt5.QtWidgets import QApplication, QMessageBox\n",
    "from log_settings import logger\n",
    "from skimage import io\n",
    "\n",
    "try:\n",
    "    path = input(\"Enter path/URL of image : \")\n",
    "    imgfile = io.imread(path)\n",
    "    annotated_image_path, object_counts = CropWeedDetection(input_image=imgfile).run_detection()\n",
    "    try:\n",
    "        detection_pop_up_app = QApplication([])\n",
    "        detection_pop_up = QMessageBox()\n",
    "        detection_pop_up.setIcon(QMessageBox.Information)\n",
    "        detection_pop_up.setText(f\"The given input has : {object_counts}\")\n",
    "        detection_pop_up.setWindowTitle(\"Crop Weed model Prediction\")\n",
    "        detection_pop_up.setStandardButtons(QMessageBox.Ok)\n",
    "        ok_button = detection_pop_up.button(QMessageBox.Ok)\n",
    "        ok_button.clicked.connect(detection_pop_up.close)\n",
    "        detection_pop_up.show()\n",
    "        detection_pop_up_app.exec_()\n",
    "        img = cv2.imread(annotated_image_path)\n",
    "        cv2.namedWindow(\"Detection prediction\", cv2.WINDOW_NORMAL)\n",
    "        cv2.resizeWindow(\"Detection prediction\", 1280, 860)\n",
    "        cv2.imshow(\"Detection prediction\",img)\n",
    "        cv2.waitKey(0)\n",
    "        cv2.destroyAllWindows()\n",
    "        logger.info(f\"A copy of this detection results is saved in {annotated_image_path}\")\n",
    "    except:\n",
    "        logger.error(\"Error in showing the classifier model results\")\n",
    "except:\n",
    "    logger.error(\"Error in performing crop weed detection\")"
   ]
  }
 ],
 "metadata": {
  "kernelspec": {
   "display_name": "NuventoSales",
   "language": "python",
   "name": "python3"
  },
  "language_info": {
   "codemirror_mode": {
    "name": "ipython",
    "version": 3
   },
   "file_extension": ".py",
   "mimetype": "text/x-python",
   "name": "python",
   "nbconvert_exporter": "python",
   "pygments_lexer": "ipython3",
   "version": "3.8.10"
  },
  "orig_nbformat": 4
 },
 "nbformat": 4,
 "nbformat_minor": 2
}
