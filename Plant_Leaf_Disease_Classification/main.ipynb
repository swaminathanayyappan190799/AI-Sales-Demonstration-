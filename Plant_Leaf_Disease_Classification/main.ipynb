{
 "cells": [
  {
   "cell_type": "code",
   "execution_count": 1,
   "metadata": {},
   "outputs": [
    {
     "name": "stderr",
     "output_type": "stream",
     "text": [
      "2023-06-15 20:53:39,835 INFO plant_disease_classification  Classifier Model loaded successfully\n",
      "2023-06-15 20:53:39,843 INFO plant_disease_classification  Classifier labels loaded successfully\n"
     ]
    },
    {
     "name": "stdout",
     "output_type": "stream",
     "text": [
      "1/1 [==============================] - 1s 1s/step\n"
     ]
    },
    {
     "name": "stderr",
     "output_type": "stream",
     "text": [
      "2023-06-15 20:53:41,456 INFO 241149695  The leaf disease prediction model classified the image as Bell Pepper Bacterial\n"
     ]
    }
   ],
   "source": [
    "from PyQt5.QtWidgets import QApplication, QMessageBox\n",
    "from skimage import io\n",
    "from log_settings import logger\n",
    "from plant_disease_classification import PlantLeadDiseaseClassifier\n",
    "try:\n",
    "    input_img = input(\"Image Path/URL : \")\n",
    "    img = io.imread(input_img)\n",
    "    obj = PlantLeadDiseaseClassifier(input_image=img)\n",
    "    plant_leaf_disease_prediction = obj.run_classifier_infernce()\n",
    "    logger.info(f\"The leaf disease prediction model classified the image as {plant_leaf_disease_prediction}\")\n",
    "    try:\n",
    "        classifier_pop_up_app = QApplication([])\n",
    "        classifier_pop_up = QMessageBox()\n",
    "        classifier_pop_up.setIcon(QMessageBox.Information)\n",
    "        classifier_pop_up.setText(f\"The given input image is classified as : {plant_leaf_disease_prediction}\")\n",
    "        classifier_pop_up.setWindowTitle(\"Classification model Prediction\")\n",
    "        classifier_pop_up.setStandardButtons(QMessageBox.Ok)\n",
    "        ok_button = classifier_pop_up.button(QMessageBox.Ok)\n",
    "        ok_button.clicked.connect(classifier_pop_up.close)\n",
    "        classifier_pop_up.show()\n",
    "        classifier_pop_up_app.exec_()\n",
    "    except:\n",
    "        logger.error(\"Error in showing the classifier model results\")\n",
    "except:\n",
    "    logger.error(\"Error in performing plant_disease_classification\")"
   ]
  },
  {
   "cell_type": "code",
   "execution_count": null,
   "metadata": {},
   "outputs": [],
   "source": []
  }
 ],
 "metadata": {
  "kernelspec": {
   "display_name": "NuventoSales",
   "language": "python",
   "name": "python3"
  },
  "language_info": {
   "codemirror_mode": {
    "name": "ipython",
    "version": 3
   },
   "file_extension": ".py",
   "mimetype": "text/x-python",
   "name": "python",
   "nbconvert_exporter": "python",
   "pygments_lexer": "ipython3",
   "version": "3.8.10"
  },
  "orig_nbformat": 4
 },
 "nbformat": 4,
 "nbformat_minor": 2
}
