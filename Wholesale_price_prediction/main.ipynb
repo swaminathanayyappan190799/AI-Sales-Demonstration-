{
 "cells": [
  {
   "cell_type": "code",
   "execution_count": 3,
   "metadata": {},
   "outputs": [],
   "source": [
    "from PyQt5.QtWidgets import QApplication, QMessageBox\n",
    "from wpi_infernece import WPIInference\n",
    "from log_settings import logger\n",
    "import tkinter as tk\n",
    "from tkinter import ttk\n",
    "\n",
    "try:\n",
    "    window = tk.Tk()\n",
    "    def run_inference_for_WPI(option):\n",
    "        month = int(input(\"Enter the month in numbers\"))\n",
    "        year = int(input(\"Enter the year\"))\n",
    "        rainfall = float(input(\"Enter the rainfall in decimal values\"))\n",
    "        return WPIInference(requested_commodity=option).run_inference(month=month, year=year, rainfall=rainfall)\n",
    "    def on_dropdown_selected():\n",
    "        selected_option = dropdown.get()\n",
    "        try:\n",
    "            WPI_pop_up_app = QApplication([])\n",
    "            WPI_pop_up = QMessageBox()\n",
    "            WPI_pop_up.setIcon(QMessageBox.Information)\n",
    "            WPI_pop_up.setText(f\"The predicted WPI for {selected_option} is {run_inference_for_WPI(option=selected_option)}\")\n",
    "            WPI_pop_up.setWindowTitle(\"Classification model Prediction\")\n",
    "            WPI_pop_up.setStandardButtons(QMessageBox.Ok)\n",
    "            ok_button = WPI_pop_up.button(QMessageBox.Ok)\n",
    "            ok_button.clicked.connect(WPI_pop_up.close)\n",
    "            WPI_pop_up.show()\n",
    "            WPI_pop_up_app.exec_()\n",
    "        except:\n",
    "            logger.error(\"Error in showing WPI Results\")\n",
    "        dropdown.destroy()  # Close the dropdown\n",
    "        window.destroy()\n",
    "    # Create a dropdown\n",
    "    options = ['Arhar', 'Bajra', 'Barley', 'Copra', 'Cotton', 'Gram', 'Groundnut', 'Jowar', 'Jute', 'Maize', 'Masoor', 'Moong', 'Niger', 'Paddy', 'Ragi', 'Rape', 'Safflower', 'Sesamum', 'Soyabean', 'Sugarcane', 'Sunflower', 'Urad', 'Wheat']\n",
    "    dropdown = ttk.Combobox(window, values=options)\n",
    "    dropdown.pack()\n",
    "    dropdown.set(\"Select an commodity\")\n",
    "    ok_button = ttk.Button(window, text=\"OK\", command=on_dropdown_selected)\n",
    "    ok_button.pack()\n",
    "    window.mainloop()\n",
    "except:\n",
    "    logger.error(\"Error in WPI prediction\")"
   ]
  },
  {
   "cell_type": "code",
   "execution_count": null,
   "metadata": {},
   "outputs": [],
   "source": []
  }
 ],
 "metadata": {
  "kernelspec": {
   "display_name": "NuventoSales",
   "language": "python",
   "name": "python3"
  },
  "language_info": {
   "codemirror_mode": {
    "name": "ipython",
    "version": 3
   },
   "file_extension": ".py",
   "mimetype": "text/x-python",
   "name": "python",
   "nbconvert_exporter": "python",
   "pygments_lexer": "ipython3",
   "version": "3.8.10"
  },
  "orig_nbformat": 4
 },
 "nbformat": 4,
 "nbformat_minor": 2
}
