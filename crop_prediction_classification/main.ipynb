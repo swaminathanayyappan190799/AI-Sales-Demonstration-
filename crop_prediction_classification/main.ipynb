{
 "cells": [
  {
   "cell_type": "code",
   "execution_count": 1,
   "metadata": {},
   "outputs": [
    {
     "name": "stderr",
     "output_type": "stream",
     "text": [
      "2023-05-30 20:20:30,902 INFO crop_model_inferece  Classifier Model loaded successfully\n",
      "2023-05-30 20:20:30,905 INFO crop_model_inferece  Classifier labels loaded successfully\n"
     ]
    },
    {
     "name": "stdout",
     "output_type": "stream",
     "text": [
      "1/1 [==============================] - 0s 307ms/step\n"
     ]
    },
    {
     "name": "stderr",
     "output_type": "stream",
     "text": [
      "2023-05-30 20:20:31,289 INFO 663524898  The Crop prediction model classified the image as wheat\n"
     ]
    }
   ],
   "source": [
    "from crop_model_inferece import CropPredictor\n",
    "from PyQt5.QtWidgets import QApplication, QMessageBox\n",
    "from skimage import io\n",
    "from logger import logger\n",
    "\n",
    "try:\n",
    "    input_img = input(\"Image Path : \")\n",
    "    img = io.imread(input_img)\n",
    "    obj = CropPredictor(input_image=img)\n",
    "    crop_prediction_results = obj.run_classifier_infernce()\n",
    "    logger.info(f\"The Crop prediction model classified the image as {crop_prediction_results}\")\n",
    "    try:\n",
    "        classifier_pop_up_app = QApplication([])\n",
    "        classifier_pop_up = QMessageBox()\n",
    "        classifier_pop_up.setIcon(QMessageBox.Information)\n",
    "        classifier_pop_up.setText(f\"The given input image is classified as : {crop_prediction_results}\")\n",
    "        classifier_pop_up.setWindowTitle(\"Classification model Prediction\")\n",
    "        classifier_pop_up.setStandardButtons(QMessageBox.Ok)\n",
    "        ok_button = classifier_pop_up.button(QMessageBox.Ok)\n",
    "        ok_button.clicked.connect(classifier_pop_up.close)\n",
    "        classifier_pop_up.show()\n",
    "        classifier_pop_up_app.exec_()\n",
    "    except:\n",
    "        logger.error(\"Error in showing the classifier model results\")\n",
    "except:\n",
    "    logger.error(\"Error in performing crop_prediction_classification\")"
   ]
  }
 ],
 "metadata": {
  "kernelspec": {
   "display_name": "NuventoSales",
   "language": "python",
   "name": "python3"
  },
  "language_info": {
   "codemirror_mode": {
    "name": "ipython",
    "version": 3
   },
   "file_extension": ".py",
   "mimetype": "text/x-python",
   "name": "python",
   "nbconvert_exporter": "python",
   "pygments_lexer": "ipython3",
   "version": "3.8.10"
  },
  "orig_nbformat": 4
 },
 "nbformat": 4,
 "nbformat_minor": 2
}
